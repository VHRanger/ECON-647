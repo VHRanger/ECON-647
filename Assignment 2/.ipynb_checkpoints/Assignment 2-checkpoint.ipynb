{
 "cells": [
  {
   "cell_type": "markdown",
   "metadata": {},
   "source": [
    "# Assignment 1\n",
    "    \n",
    "   **Name**: Julien Neves\n",
    "\n",
    "**Name**: Matthieu Ranger\n",
    "\n",
    "**Date**: February 22, 2017\n",
    "\n",
    "# Problem 1"
   ]
  },
  {
   "cell_type": "code",
   "execution_count": 1,
   "metadata": {
    "collapsed": false
   },
   "outputs": [
    {
     "data": {
      "text/plain": [
       "squared_res (generic function with 1 method)"
      ]
     },
     "execution_count": 1,
     "metadata": {},
     "output_type": "execute_result"
    }
   ],
   "source": [
    "# Create matrix containing data\n",
    "R = [4.44 4.49 4.51 4.63 4.63 4.62 4.82 4.77 5.23;\n",
    "     4.45 4.48 4.49 4.61 4.61 4.60 4.84 4.74 5.16;\n",
    "     4.37 4.49 4.53 4.66 4.66 4.65 4.86 4.76 5.18;\n",
    "     4.47 4.47 4.51 4.57 4.57 4.57 4.74 4.68 5.14;\n",
    "     4.48 4.55 4.59 4.72 4.73 4.74 4.91 4.91 5.25]\n",
    "\n",
    "tau = [.25 .5 1 2 3 5 7 10 30]\n",
    "\n",
    "# Functions for computing price of bond\n",
    "A(tau, kappa, alpha, sigma) = (2*sqrt(kappa^2+2*sigma^2)*exp((sqrt(kappa^2+2*sigma^2)+kappa)*tau/2) / \n",
    "    ((sqrt(kappa^2+2*sigma^2)+kappa)*(exp(sqrt(kappa^2+2*sigma^2)*tau)-1) + 2*sqrt(kappa^2+2*sigma^2)))^(2*kappa*alpha/sigma^2)\n",
    "\n",
    "B(tau, kappa, alpha, sigma) = (2*(exp(sqrt(kappa^2+2*sigma^2)*tau)-1) /\n",
    "    ((sqrt(kappa^2+2*sigma^2)+kappa)*(exp(sqrt(kappa^2+2*sigma^2)*tau)-1)+ 2*sqrt(kappa^2+2*sigma^2)))\n",
    "\n",
    "Z(tau, r,  kappa, alpha, sigma) = A(tau, kappa, alpha, sigma) * exp(-B(tau, kappa, alpha, sigma)*r)\n",
    "\n",
    "price(tau, r,  kappa, alpha, sigma) = -100*log(Z(tau, r, kappa, alpha, sigma))/tau\n",
    "\n",
    "\n",
    "# Function to calculate squared residuals given parameters and data\n",
    "function squared_res(R, tau, r, kappa, alpha, sigma)\n",
    "    maxDate, maxTau = size(R)\n",
    "    \n",
    "    res = copy(R)\n",
    "    \n",
    "    for i = 1:maxDate\n",
    "        for j = 1:maxTau\n",
    "            res[i,j] = (R[i,j] - price(tau[j], r[i], kappa, alpha, sigma))^2\n",
    "        end\n",
    "    end\n",
    "\n",
    "    return sum(res)\n",
    "end"
   ]
  },
  {
   "cell_type": "markdown",
   "metadata": {},
   "source": [
    "## **a)**"
   ]
  },
  {
   "cell_type": "code",
   "execution_count": 2,
   "metadata": {
    "collapsed": false
   },
   "outputs": [
    {
     "name": "stdout",
     "output_type": "stream",
     "text": [
      "r = [0.0221128,0.0220754,0.0220678,0.0228224,0.0224551]\n",
      "kappa = [-0.0809147,-0.0821362,-0.0783808,-0.083852,-0.079841]\n",
      "alpha = [-5.78935,-6.10459,-5.23679,-6.59471,-5.44983]\n",
      "sigma = [13.9,14.9569,12.137,16.6552,12.663]\n",
      "kappa*alpha = [0.468444,0.501408,0.410464,0.552979,0.43512]\n"
     ]
    }
   ],
   "source": [
    "using Optim\n",
    "\n",
    "# Create an empty array to store results\n",
    "res_a = Array(Float64,5,4)\n",
    "\n",
    "# Iterate on every date\n",
    "for i = 1:5\n",
    "    # Function depending to get squared residuals using one row of data\n",
    "    f_a(x) = squared_res(R[i,:]', tau, x[1], x[2], x[3], x[4]) \n",
    "    # Get value of parameter that minimize squared residuals (Using BFGS)\n",
    "    res_a[i, :] = Optim.minimizer(optimize(f_a, ones(4), BFGS()))\n",
    "end\n",
    "\n",
    "r = res_a[:,1]\n",
    "kappa = res_a[:,2]\n",
    "alpha = res_a[:,3]\n",
    "sigma = res_a[:,4]\n",
    "\n",
    "println(\"r = \", r)\n",
    "println(\"kappa = \", kappa)\n",
    "println(\"alpha = \", alpha)\n",
    "println(\"sigma = \", sigma)\n",
    "\n",
    "println(\"kappa*alpha = \", kappa.*alpha)"
   ]
  },
  {
   "cell_type": "markdown",
   "metadata": {},
   "source": [
    "## **b)**"
   ]
  },
  {
   "cell_type": "code",
   "execution_count": 3,
   "metadata": {
    "collapsed": false
   },
   "outputs": [
    {
     "name": "stdout",
     "output_type": "stream",
     "text": [
      "r = [0.0213034,0.0211902,0.0202723,0.0212856,0.0235574]\n",
      "kappa = -0.9589941905157485\n",
      "alpha = -0.48431264612318325\n",
      "sigma = 14.377805989082814\n",
      "kappa * alpha = 0.4644530140254423\n"
     ]
    }
   ],
   "source": [
    "using Optim\n",
    "\n",
    "# Function to get squared residuals\n",
    "f_b(x) = squared_res(R, tau, [x[1], x[2], x[3], x[4], x[5]], x[6], x[7], x[8]) \n",
    "# Get value of parameter that minimize squared residuals (Using BFGS)\n",
    "res_b = Optim.minimizer(optimize(f_b, ones(8), BFGS()))\n",
    "\n",
    "r = res_b[1:5]\n",
    "kappa = res_b[6]\n",
    "alpha = res_b[7] \n",
    "sigma = res_b[8]\n",
    "\n",
    "println(\"r = \", r)\n",
    "println(\"kappa = \", kappa)\n",
    "println(\"alpha = \", alpha)\n",
    "println(\"sigma = \", sigma)\n",
    "\n",
    "println(\"kappa * alpha = \", kappa.*alpha)"
   ]
  },
  {
   "cell_type": "markdown",
   "metadata": {},
   "source": [
    "Note that the $\\alpha$ and $\\kappa$ are quite different when we calibrate over the whole sample compared to every date, but the $\\kappa*\\alpha$ seems to be constant between both form of calibration. Moreover, $r$ and $\\sigma$ seems to be consistent between the two calibrations"
   ]
  },
  {
   "cell_type": "markdown",
   "metadata": {},
   "source": [
    "# Problem 2"
   ]
  },
  {
   "cell_type": "markdown",
   "metadata": {},
   "source": [
    "Start with the taylor expansion of $f(x + h)$ and $f(x + 2h)$\n",
    "\\begin{align*}\n",
    "\tf(x + h) & = f(x) + hf'(x) + \\frac{h^2}{2} f''(x) + O(h^3)\\\\\n",
    "\tf(x + 2h) & = f(x) + 2hf'(x) + \\frac{(2h)^2}{2} f''(x) + O(h^3)\\\\\n",
    "\\end{align*}\n",
    "\n",
    "Combining them yields the following forward approximation:\n",
    "\\begin{align*}\n",
    "- f(x + 2h) + 4f(x + h) & = - f(x) - 2hf'(x) - \\frac{(2h)^2}{2} f''(x) + 4f(x) + 4hf'(x) + 4\\frac{h^2}{2} f''(x) + O(h^3) \n",
    "\t\\\\\n",
    "\tf'(x) & = \\frac{- f(x + 2h) + 4f(x + h) -3 f(x)}{2h} + O(h^2)\n",
    "\\end{align*}"
   ]
  },
  {
   "cell_type": "markdown",
   "metadata": {},
   "source": [
    "# Problem 3"
   ]
  },
  {
   "cell_type": "code",
   "execution_count": 4,
   "metadata": {
    "collapsed": false
   },
   "outputs": [
    {
     "data": {
      "text/html": [
       "0.7918534913347773"
      ],
      "text/plain": [
       "0.7918534913347773"
      ]
     },
     "execution_count": 4,
     "metadata": {},
     "output_type": "execute_result"
    }
   ],
   "source": [
    "using Roots\n",
    "using QuantEcon\n",
    "\n",
    "# Gauss-Legendre xi and wi\n",
    "x, w = qnwlege(20, 0, 1)\n",
    "\n",
    "# Function to integrate\n",
    "f(x,y) = y*exp(y*x-x.^2/2)\n",
    "\n",
    "# Function depending on y such that g(y)=0\n",
    "g(y) = dot(w, f(x, y[1])) - 1\n",
    "\n",
    "# Find root \n",
    "result = fzero(g,1)"
   ]
  },
  {
   "cell_type": "markdown",
   "metadata": {},
   "source": [
    "# Problem 4"
   ]
  },
  {
   "cell_type": "code",
   "execution_count": 5,
   "metadata": {
    "collapsed": false
   },
   "outputs": [
    {
     "name": "stdout",
     "output_type": "stream",
     "text": [
      "Mean = 1.0164771040639031\n",
      "Variance = 0.031033722701452993\n"
     ]
    }
   ],
   "source": [
    "using Roots\n",
    "using QuantEcon\n",
    "\n",
    "# Gauss-Normal xi and wi\n",
    "theta, w = qnwnorm([10,10], [0,0], [0.02 0.01; 0.01 0.01])\n",
    "\n",
    "# Modify xi to get theta\n",
    "theta = exp(theta)\n",
    "\n",
    "function demand(theta)\n",
    "    # Function f(p) such that f(p)=0\n",
    "    f(p) = theta[1]*p[1]^-0.8 + theta[2]*p[1]^-0.5 - 2\n",
    "    # Find root \n",
    "    result = fzero(f,0,50)\n",
    "end\n",
    "\n",
    "# Get competitive p for every theta\n",
    "result = []\n",
    "for i = 1:size(theta)[1]\n",
    "    push!(result,demand(theta[i,:]))\n",
    "end\n",
    "\n",
    "ex = dot(w,result)\n",
    "evar = dot(w,result.^2) - ex.^2\n",
    "\n",
    "println(\"Mean = \", ex)\n",
    "println(\"Variance = \", evar)"
   ]
  },
  {
   "cell_type": "markdown",
   "metadata": {},
   "source": [
    "# Problem 5\n",
    "\n",
    "## **a)**\n",
    "Integral is $4\\sqrt{p}+c$, evaluated on $[0,4]$ is $8$ and evaluated on $[0,1]$ is $4$. So $\\Delta = 4$\n",
    "\n",
    "## **b)** Trapezoid rule"
   ]
  },
  {
   "cell_type": "code",
   "execution_count": 6,
   "metadata": {
    "collapsed": false
   },
   "outputs": [
    {
     "name": "stdout",
     "output_type": "stream",
     "text": [
      "Integral = 4.039627011416039\n",
      "Error = 0.03962701141603908\n"
     ]
    }
   ],
   "source": [
    "using QuantEcon\n",
    "\n",
    "# Function to integrate\n",
    "func(x) = 2*x.^(-0.5)\n",
    "\n",
    "# Trapezoid rule xi, wi\n",
    "x, w = qnwtrap(5, 1.0, 4.0)\n",
    "\n",
    "# Get integral\n",
    "integral = dot(w,func(x))\n",
    "\n",
    "println(\"Integral = \", integral)\n",
    "println(\"Error = \", abs(integral-4))"
   ]
  },
  {
   "cell_type": "markdown",
   "metadata": {},
   "source": [
    "## **c)** Simpson Rule Integration"
   ]
  },
  {
   "cell_type": "code",
   "execution_count": 7,
   "metadata": {
    "collapsed": false
   },
   "outputs": [
    {
     "name": "stdout",
     "output_type": "stream",
     "text": [
      "Integral = 4.003713816521043\n",
      "Error = 0.0037138165210430785\n"
     ]
    },
    {
     "name": "stderr",
     "output_type": "stream",
     "text": [
      "WARNING: Method definition func(Any) in module Main at In[6]:4 overwritten at In[7]:4.\n"
     ]
    }
   ],
   "source": [
    "using QuantEcon\n",
    "\n",
    "# Function to integrate\n",
    "func(x) = 2*x.^(-0.5)\n",
    "\n",
    "# Simpson rule xi, wi\n",
    "x, w = qnwsimp(5, 1.0, 4.0)\n",
    "\n",
    "# Get integral\n",
    "integral = dot(w,func(x))\n",
    "\n",
    "println(\"Integral = \", integral)\n",
    "println(\"Error = \", abs(integral-4))"
   ]
  },
  {
   "cell_type": "markdown",
   "metadata": {},
   "source": [
    "## **d)** Gauss-Legendre"
   ]
  },
  {
   "cell_type": "code",
   "execution_count": 8,
   "metadata": {
    "collapsed": false
   },
   "outputs": [
    {
     "name": "stdout",
     "output_type": "stream",
     "text": [
      "Integral = 3.9999831601664724\n",
      "Error = 1.6839833527626524e-5\n"
     ]
    },
    {
     "name": "stderr",
     "output_type": "stream",
     "text": [
      "WARNING: Method definition func(Any) in module Main at In[7]:4 overwritten at In[8]:4.\n"
     ]
    }
   ],
   "source": [
    "using QuantEcon\n",
    "\n",
    "# Function to integrate\n",
    "func(x) = 2*x.^(-0.5)\n",
    "\n",
    "# Gauss-Legendre xi, wi\n",
    "x, w = qnwlege(5, 1.0, 4.0)\n",
    "\n",
    "# Get integral\n",
    "integral = dot(w,func(x))\n",
    "\n",
    "println(\"Integral = \", integral)\n",
    "println(\"Error = \", abs(integral-4))"
   ]
  },
  {
   "cell_type": "markdown",
   "metadata": {},
   "source": [
    "## **e)** Weyl sequence"
   ]
  },
  {
   "cell_type": "code",
   "execution_count": 9,
   "metadata": {
    "collapsed": false
   },
   "outputs": [
    {
     "name": "stdout",
     "output_type": "stream",
     "text": [
      "Integral = 4"
     ]
    },
    {
     "name": "stderr",
     "output_type": "stream",
     "text": [
      "WARNING: Method definition func(Any) in module Main at In[8]:4 overwritten at In[9]:4.\n"
     ]
    },
    {
     "name": "stdout",
     "output_type": "stream",
     "text": [
      ".142695554267972\n",
      "Error = 0.14269555426797176\n"
     ]
    }
   ],
   "source": [
    "using QuantEcon\n",
    "\n",
    "# Function to integrate\n",
    "func(x) = 2*x.^(-0.5)\n",
    "\n",
    "# Weyl sequence xi, wi\n",
    "x, w = qnwequi(5, 1.0, 4.0)\n",
    "\n",
    "# Get integral\n",
    "integral = dot(w,func(x))\n",
    "\n",
    "println(\"Integral = \", integral)\n",
    "println(\"Error = \", abs(integral-4))"
   ]
  },
  {
   "cell_type": "markdown",
   "metadata": {},
   "source": [
    "# Problem 6 "
   ]
  },
  {
   "cell_type": "code",
   "execution_count": 10,
   "metadata": {
    "collapsed": false
   },
   "outputs": [
    {
     "name": "stdout",
     "output_type": "stream",
     "text": [
      "Expected value (Monte Carlo) = 0.9081759114409136\n"
     ]
    }
   ],
   "source": [
    "using Distributions\n",
    "\n",
    "function MCGumbel(n)\n",
    "    gbl = Gumbel()\n",
    "    sumtotal = 0\n",
    "    for i=1:n\n",
    "        draw = rand(gbl)\n",
    "        sumtotal += sqrt(abs(draw))\n",
    "    end\n",
    "    return sumtotal/n\n",
    "end\n",
    "\n",
    "result = MCGumbel(1000)\n",
    "\n",
    "println(\"Expected value (Monte Carlo) = \", result)"
   ]
  },
  {
   "cell_type": "code",
   "execution_count": 11,
   "metadata": {
    "collapsed": false
   },
   "outputs": [
    {
     "data": {
      "text/plain": [
       "qnwequi_neideretter (generic function with 1 method)"
      ]
     },
     "execution_count": 11,
     "metadata": {},
     "output_type": "execute_result"
    }
   ],
   "source": [
    "function qnwequi_neideretter(n,a,b)\n",
    "    equidist_pp=sqrt(primes(7920)); \n",
    "\n",
    "    d  = max(length(n),max(length(a),length(b)))\n",
    "    n=prod(n)\n",
    "\n",
    "    i=collect(1:n)\n",
    "    i = convert(Array{Float64,1}, i)\n",
    "    j=2.^(collect(1:d)/(d+1))\n",
    "    x=i.*j\n",
    "    x=x-fix(x)\n",
    "\n",
    "    u=ones(n,1)\n",
    "    r = b-a\n",
    "    x = a + x.*r\n",
    "    w = (prod(r)/n)*u\n",
    "                        \n",
    "    return [x,w]\n",
    "end\n"
   ]
  },
  {
   "cell_type": "code",
   "execution_count": 12,
   "metadata": {
    "collapsed": false
   },
   "outputs": [
    {
     "name": "stdout",
     "output_type": "stream",
     "text": [
      "Expected value (Neiderrieter) = 0.983461150549742\n"
     ]
    },
    {
     "name": "stderr",
     "output_type": "stream",
     "text": [
      "WARNING: Method definition func(Any) in module Main at In[9]:4 overwritten at In[12]:7.\n"
     ]
    }
   ],
   "source": [
    "using QuantEcon: fix\n",
    "\n",
    "# Function to integrate\n",
    "func(x) = exp(-x).*exp(-exp(-x))\n",
    "\n",
    "x, w = qnwequi_neideretter(1000, -99, 99) \n",
    "\n",
    "# Integrate over domain\n",
    "integral = dot(w,func(x))\n",
    "\n",
    "println(\"Expected value (Neiderrieter) = \", integral)"
   ]
  }
 ],
 "metadata": {
  "anaconda-cloud": {},
  "celltoolbar": "Raw Cell Format",
  "kernelspec": {
   "display_name": "Julia 0.5.0",
   "language": "julia",
   "name": "julia-0.5"
  },
  "language_info": {
   "file_extension": ".jl",
   "mimetype": "application/julia",
   "name": "julia",
   "version": "0.5.0"
  }
 },
 "nbformat": 4,
 "nbformat_minor": 1
}
